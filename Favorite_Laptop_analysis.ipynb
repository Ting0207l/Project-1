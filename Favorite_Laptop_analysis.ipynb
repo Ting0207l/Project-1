{
 "cells": [
  {
   "cell_type": "code",
   "execution_count": 2,
   "metadata": {},
   "outputs": [],
   "source": [
    "from bs4 import BeautifulSoup as BS\n",
    "import requests\n",
    "import csv\n",
    "import re\n",
    "import pandas as pd\n",
    "from pandas import DataFrame"
   ]
  },
  {
   "cell_type": "code",
   "execution_count": 5,
   "metadata": {},
   "outputs": [
    {
     "name": "stdout",
     "output_type": "stream",
     "text": [
      "ok\n"
     ]
    }
   ],
   "source": [
    "def turnpage(i):\n",
    "    if i==0:\n",
    "        url='https://search.jd.com/Search?keyword=%E7%AC%94%E8%AE%B0%E6%9C%AC%E7%94%B5%E8%84%91%E8%87%AA%E8%90%A5&psort=3&spm=2.1.0&psort=3&click=0'\n",
    "    else:\n",
    "        url='https://search.jd.com/Search?keyword=%E7%AC%94%E8%AE%B0%E6%9C%AC%E7%94%B5%E8%84%91%E8%87%AA%E8%90%A5&psort=3&spm=2.1.0&psort=3&page='+str(2*i+1)+'&s='+str(60*i)+'&click=1'\n",
    "    return url   \n",
    "    \n",
    "def gettext(url):\n",
    "    try:\n",
    "        head={\"User-Agent\":\"Mozilla/5.0 (Windows NT 10.0; WOW64) AppleWebKit/537.36 (KHTML, like Gecko) Chrome/71.0.3578.98 Safari/537.36\"}\n",
    "        r=requests.get(url,headers=head)\n",
    "        r.raise_for_status()\n",
    "        r.encoding=r.apparent_encoding\n",
    "        text=r.text\n",
    "        \n",
    "        return text\n",
    "    except:\n",
    "        return '爬取失败'\n",
    "def getpriceandhtml(text):\n",
    "    dict={}\n",
    "    L1=[]\n",
    "    L2=[]\n",
    "    soup=BS(text,'html.parser')\n",
    "    price=soup.findAll('i')\n",
    "    L3=re.findall(r'//item.jd.com/[0-9]+.html',text)\n",
    "    L=[]\n",
    "    for j in L3:\n",
    "        if j not in L2:\n",
    "            L2.append(j)\n",
    "            \n",
    "    \n",
    "    for j in price:\n",
    "        try:\n",
    "            f=float(j.string)\n",
    "            if f>1000:\n",
    "                L1.append(f)\n",
    "        except:\n",
    "            continue\n",
    "    #print(len(L1),len(L2))\n",
    "    for i in range(len(L1)):\n",
    "        L.append([L1[i],L2[i]])\n",
    "    return L\n",
    "L=[]\n",
    "for k in range(31):\n",
    "    url=turnpage(k)    \n",
    "    text=gettext(url)\n",
    "    L1=getpriceandhtml(text)\n",
    "    L.extend(L1)\n",
    "#print(L)\n",
    "with open('website.csv','w') as f1:\n",
    "    f=csv.writer(f1)\n",
    "    for i in L:\n",
    "        f.writerow(i)\n",
    "    print('ok')\n",
    "#P爬取31页网页的网址与价格，输入csv文件并保存，print ok"
   ]
  },
  {
   "cell_type": "code",
   "execution_count": 8,
   "metadata": {},
   "outputs": [
    {
     "name": "stdout",
     "output_type": "stream",
     "text": [
      "ok\n"
     ]
    }
   ],
   "source": [
    "def getinfo(text):\n",
    "    soup=BS(text,'html.parser')\n",
    "    m=soup.findAll('li')\n",
    "    L=[]\n",
    "    soup=BS(text,'html.parser')\n",
    "    m=soup.findAll('li')\n",
    "    try:\n",
    "        name=re.search('商品名称：.+?<',str(m))\n",
    "        L.append(name.group()[5:-1])\n",
    "    except:\n",
    "        L.append('none')\n",
    "    try:   \n",
    "        wei=re.search('裸机重量：.+?<',str(m))\n",
    "        L.append(wei.group()[5:-1])\n",
    "    except:\n",
    "        L.append('none')\n",
    "    try:\n",
    "        thi=re.search('厚度：.+?<',str(m))\n",
    "        L.append(thi.group()[3:-1])\n",
    "    except:\n",
    "        L.append('none')\n",
    "    try:\n",
    "        big=re.search('屏幕尺寸：.+?<',str(m))\n",
    "        L.append(big.group()[5:-1])\n",
    "    except:\n",
    "        L.append('none')\n",
    "    try:\n",
    "        time=re.search('待机时长：.+?<',str(m))\n",
    "        L.append(time.group()[5:-1])\n",
    "    except:\n",
    "        L.append('none')\n",
    "    try:\n",
    "        area=re.search('商品产地：.+?<',str(m))\n",
    "        L.append(area.group()[5:-1])\n",
    "    except:\n",
    "        L.append('none')\n",
    "    try:\n",
    "        color=re.search('屏幕色域：.+?<',str(m))\n",
    "        L.append(color.group()[5:-1])\n",
    "    except:\n",
    "        L.append('none')\n",
    "    try:\n",
    "        sys=re.search('系统：.+?<',str(m))\n",
    "        L.append(sys.group()[3:-1])\n",
    "    except:\n",
    "        L.append('none')\n",
    "    try:\n",
    "        try:\n",
    "            xiancun=re.search('显存容量：.+?<',str(m))\n",
    "            L.append(xiancun.group()[5:-1])\n",
    "        except:\n",
    "            xiancun=re.search('显存：.+?<',str(m))\n",
    "            L.append(xiancun.group()[3:-1])\n",
    "    except:\n",
    "        L.append('none')\n",
    "    try:\n",
    "        try:\n",
    "            neicun=re.search('内存容量：[0-9]+?G<',str(m))\n",
    "            L.append(neicun.group()[5:-1])\n",
    "        except:\n",
    "            neicun=re.search('内存：[0-9]+?G<',str(m))\n",
    "            L.append(neicun.group()[3:-1])    \n",
    "    except:\n",
    "        L.append('none')\n",
    "    try:\n",
    "        try:\n",
    "            yinpan=re.search('硬盘：[0-9]+G.+?<',str(m))\n",
    "            L.append(yinpan.group()[3:-1])\n",
    "        except:\n",
    "            yinpan=re.search('硬盘容量：[0-9]+G.+?<',str(m))\n",
    "            L.append(yinpan.group()[5:-1])\n",
    "    except:\n",
    "        L.append('none')\n",
    "    try:\n",
    "        try:\n",
    "            xianka=re.search('显卡(型号|类别)：.+?<',str(m))\n",
    "            L.append(xianka.group()[5:-1])\n",
    "        except:\n",
    "            xianka=re.search('显卡：.+?<',str(m))\n",
    "            L.append(xianka.group()[3:-1])\n",
    "    except:\n",
    "        L.append('none')\n",
    "    return L\n",
    "                \n",
    "with open('website.csv') as f1:\n",
    "    reader=csv.reader(f1)\n",
    "    i=0\n",
    "    with open('data.csv','w',encoding='utf-8') as f2:\n",
    "        writer=csv.writer(f2)\n",
    "        writer.writerow(['价格','网址','商品名称','裸机重量','厚度','屏幕尺寸','待机时长','商品产地','屏幕色域','系统','显存','内存','硬盘','显卡'])\n",
    "        for row in reader:\n",
    "            if i%2==0:\n",
    "                url=row[1]\n",
    "                url='https:'+url\n",
    "                text=gettext(url)\n",
    "                L=getinfo(text)\n",
    "                L=row+L\n",
    "                writer.writerow(L)\n",
    "            i=i+1\n",
    "\n",
    "    print('ok')\n",
    "    #在每个网址中搜索对应数据，并写入csv，print ok,耗时十余分钟  "
   ]
  },
  {
   "cell_type": "code",
   "execution_count": 6,
   "metadata": {},
   "outputs": [
    {
     "name": "stdout",
     "output_type": "stream",
     "text": [
      "          价格                    商品名称     裸机重量             厚度       屏幕尺寸  \\\n",
      "0     4999.0                 联想小新Pro  1-1.5KG  15.1mm—18.0mm  13-13.9英寸   \n",
      "1     5499.0               联想小新Air14  1-1.5KG  15.1mm—18.0mm  14-14.9英寸   \n",
      "2     4199.0           华为荣耀MagicBook  1-1.5KG  15.1mm—18.0mm  14-14.9英寸   \n",
      "3     7299.0                    华硕天选  2-2.5kg  20.0mm—25.0mm     15.6英寸   \n",
      "4     4499.0                    联想小新  1.5-2kg  15.1mm—18.0mm  15-15.9英寸   \n",
      "..       ...                     ...      ...            ...        ...   \n",
      "755  20692.0   AppleMacBook Pro 13.3     none           none       none   \n",
      "756  13399.0         微软Surface Pro X     none      7.1mm-9mm         其他   \n",
      "757   8499.0  ThinkPadThinkPad-T490s  1-1.5KG  15.1mm—18.0mm       none   \n",
      "758   6299.0              ThinkPadS3  1.5-2kg  18.1mm—20.0mm       none   \n",
      "759   7299.0              DELL灵越7490     none           none       none   \n",
      "\n",
      "      待机时长          显存    内存        硬盘         显卡  品牌  \n",
      "0    ＞12小时  共享系统内存（集成）   16G  512G SSD         其他  联想  \n",
      "1    7-9小时         2GB   16G  512G SSD  入门级游戏独立显卡  联想  \n",
      "2    9小时以上  共享系统内存（集成）   16G  512G SSD       集成显卡  华为  \n",
      "3    小于5小时          6G    8G  512G SSD    RTX2060  华硕  \n",
      "4    ＞12小时        none   16G  512G SSD       集成显卡  联想  \n",
      "..     ...         ...   ...       ...        ...  ..  \n",
      "755   none        none  none      none       none  Ap  \n",
      "756   none        none  none      none       none  微软  \n",
      "757  5-7小时  共享系统内存（集成）  none      none       none  Th  \n",
      "758  5-7小时  共享系统内存（集成）  none      none       none  Th  \n",
      "759   none        none    8G  512G SSD      MX250  DE  \n",
      "\n",
      "[760 rows x 11 columns]\n"
     ]
    }
   ],
   "source": [
    "info=pd.read_csv('data.csv',encoding='utf-8')\n",
    "info.drop(['网址','屏幕色域','商品产地','系统'],axis=1,inplace=True)\n",
    "\n",
    "#系统、商品产地基本一致，因此选择删除\n",
    "#考虑到将none数据去除的作用不大，因此就放在了这里\n",
    "#增加一列 品牌\n",
    "Lbrand=[]\n",
    "for i in info['商品名称']:\n",
    "    Lbrand.append(i[0:2])\n",
    "info['品牌']=Lbrand  #Th 表示thinkpad,Ap表示Apple\n",
    "print(info)"
   ]
  },
  {
   "cell_type": "code",
   "execution_count": 7,
   "metadata": {},
   "outputs": [
    {
     "name": "stdout",
     "output_type": "stream",
     "text": [
      "平均价格：5709.0\n",
      "最高价格：9499.0\n",
      "最低价格：4199.0\n"
     ]
    }
   ],
   "source": [
    "#对部分数据的分析\n",
    "info1=info.head(20)\n",
    "#销量前n=20名的价位相关\n",
    "print('平均价格：'+str(round(info1['价格'].mean(),1))) \n",
    "print('最高价格：'+str(info1['价格'].max()))\n",
    "print('最低价格：'+str(info1['价格'].min()))"
   ]
  },
  {
   "cell_type": "code",
   "execution_count": 8,
   "metadata": {},
   "outputs": [],
   "source": [
    "def group(search):#将前二十名进行分组\n",
    "    grouped=info1.groupby(by=search)\n",
    "    L1=[]\n",
    "    L2=[]\n",
    "    for key,data in grouped:\n",
    "        L1.append(key)\n",
    "        L2.append(len(data))\n",
    "    dict={search:L1,'数量':L2}\n",
    "    brand=pd.DataFrame(dict)\n",
    "    brand1=brand.sort_index(axis=0,ascending=False,by=['数量'])\n",
    "    print(brand1)\n",
    "\n",
    "L1=['品牌']#品牌\n",
    "L2=['厚度','裸机重量','屏幕尺寸']#便携程度\n",
    "L3=['待机时长']#待机时长\n",
    "L4=['内存','显存','显卡','硬盘']#电脑配置"
   ]
  },
  {
   "cell_type": "code",
   "execution_count": 9,
   "metadata": {},
   "outputs": [
    {
     "name": "stdout",
     "output_type": "stream",
     "text": [
      "   品牌  数量\n",
      "4  联想   8\n",
      "0  华为   7\n",
      "1  华硕   2\n",
      "2  惠普   2\n",
      "3  戴尔   1\n"
     ]
    },
    {
     "name": "stderr",
     "output_type": "stream",
     "text": [
      "C:\\Users\\29778\\Anaconda3\\lib\\site-packages\\ipykernel_launcher.py:10: FutureWarning: by argument to sort_index is deprecated, please use .sort_values(by=...)\n",
      "  # Remove the CWD from sys.path while we load stuff.\n"
     ]
    }
   ],
   "source": [
    "for i in L1:\n",
    "    group(i)"
   ]
  },
  {
   "cell_type": "code",
   "execution_count": 10,
   "metadata": {},
   "outputs": [
    {
     "name": "stdout",
     "output_type": "stream",
     "text": [
      "              厚度  数量\n",
      "1  15.1mm—18.0mm  14\n",
      "2  20.0mm—25.0mm   3\n",
      "3       25.0mm以上   2\n",
      "0      15.0mm及以下   1\n",
      "      裸机重量  数量\n",
      "1  1.5-2kg   8\n",
      "0  1-1.5KG   6\n",
      "2  2-2.5kg   5\n",
      "3     none   1\n",
      "        屏幕尺寸  数量\n",
      "1  14-14.9英寸   6\n",
      "3     15.6英寸   5\n",
      "0  13-13.9英寸   3\n",
      "2  15-15.9英寸   3\n",
      "4    16英寸及以上   2\n",
      "5       none   1\n"
     ]
    },
    {
     "name": "stderr",
     "output_type": "stream",
     "text": [
      "C:\\Users\\29778\\Anaconda3\\lib\\site-packages\\ipykernel_launcher.py:10: FutureWarning: by argument to sort_index is deprecated, please use .sort_values(by=...)\n",
      "  # Remove the CWD from sys.path while we load stuff.\n"
     ]
    }
   ],
   "source": [
    "for i in L2:\n",
    "    group(i)"
   ]
  },
  {
   "cell_type": "code",
   "execution_count": 6,
   "metadata": {},
   "outputs": [
    {
     "name": "stdout",
     "output_type": "stream",
     "text": [
      "    待机时长  数量\n",
      "5  ＞12小时   7\n",
      "0  5-7小时   3\n",
      "1  7-9小时   3\n",
      "2  9小时以上   3\n",
      "3   none   2\n",
      "4  小于5小时   2\n"
     ]
    },
    {
     "name": "stderr",
     "output_type": "stream",
     "text": [
      "C:\\Users\\29778\\Anaconda3\\lib\\site-packages\\ipykernel_launcher.py:24: FutureWarning: by argument to sort_index is deprecated, please use .sort_values(by=...)\n"
     ]
    }
   ],
   "source": [
    "for i in L3:\n",
    "    group(i)"
   ]
  },
  {
   "cell_type": "code",
   "execution_count": 7,
   "metadata": {},
   "outputs": [
    {
     "name": "stdout",
     "output_type": "stream",
     "text": [
      "    内存  数量\n",
      "0  16G  16\n",
      "1   8G   4\n",
      "           显存  数量\n",
      "0         2GB   9\n",
      "4  共享系统内存（集成）   4\n",
      "2          6G   3\n",
      "1          4G   2\n",
      "3        none   2\n",
      "          显卡  数量\n",
      "3  入门级游戏独立显卡   9\n",
      "5       集成显卡   5\n",
      "0    GTX1650   2\n",
      "2    RTX2060   2\n",
      "1  GTX1660Ti   1\n",
      "4         其他   1\n",
      "         硬盘  数量\n",
      "0  512G SSD  18\n",
      "1      none   2\n"
     ]
    },
    {
     "name": "stderr",
     "output_type": "stream",
     "text": [
      "C:\\Users\\29778\\Anaconda3\\lib\\site-packages\\ipykernel_launcher.py:24: FutureWarning: by argument to sort_index is deprecated, please use .sort_values(by=...)\n"
     ]
    }
   ],
   "source": [
    "for i in L4:\n",
    "    group(i)"
   ]
  },
  {
   "cell_type": "code",
   "execution_count": 24,
   "metadata": {},
   "outputs": [],
   "source": [
    "import matplotlib.mlab as mlab\n",
    "import matplotlib.pyplot as plt\n",
    "import numpy as np\n",
    "plt.rcParams['font.sans-serif']=['SimHei']\n",
    "plt.rcParams['axes.unicode_minus']=False\n"
   ]
  },
  {
   "cell_type": "code",
   "execution_count": 52,
   "metadata": {},
   "outputs": [
    {
     "data": {
      "image/png": "[encoded data removed]",
      "text/plain": [
       "<Figure size 576x432 with 1 Axes>"
      ]
     },
     "metadata": {
      "needs_background": "light"
     },
     "output_type": "display_data"
    }
   ],
   "source": [
    "#绘制前二十名品牌数量柱状图\n",
    "plt.figure(figsize=(8,6))\n",
    "plt.subplot(1,1,1)\n",
    "N=5\n",
    "values=(8,7,2,2,1)\n",
    "index=np.arange(N)\n",
    "width=0.35\n",
    "p1=plt.bar(index,values,width,label='品牌数')\n",
    "plt.xlabel('品牌')\n",
    "plt.ylabel('数量')\n",
    "plt.title('销量前二十名品牌及数量')\n",
    "plt.xticks(index,('联想','华为','华硕','惠普','戴尔'))\n",
    "plt.yticks(np.arange(0,9,1))\n",
    "plt.legend(loc='upper right')\n",
    "plt.savefig('1.jpg')\n",
    "plt.show()"
   ]
  },
  {
   "cell_type": "code",
   "execution_count": 60,
   "metadata": {},
   "outputs": [
    {
     "name": "stderr",
     "output_type": "stream",
     "text": [
      "C:\\Users\\29778\\Anaconda3\\lib\\site-packages\\ipykernel_launcher.py:42: UserWarning: Matplotlib is currently using module://ipykernel.pylab.backend_inline, which is a non-GUI backend, so cannot show the figure.\n"
     ]
    },
    {
     "data": {
      "image/png": "[encoded data removed]",
      "text/plain": [
       "<Figure size 432x288 with 4 Axes>"
      ]
     },
     "metadata": {},
     "output_type": "display_data"
    }
   ],
   "source": [
    "#饼图便携度以及待机时长占比\n",
    "fig=plt.figure()\n",
    "ax1=fig.add_subplot(221)\n",
    "labels='15.1-18.0mm','20.0-25.0mm','25.0以上mm','15.0mm以下'\n",
    "sizes=14,3,2,1\n",
    "colors='lightgreen','gold','lightskyblue','lightcoral'\n",
    "explode=0,0,0,0\n",
    "plt.pie(sizes,explode=explode,labels=labels,colors=colors,autopct='%1.1f%%',shadow=True,startangle=50)\n",
    "plt.axis('equal')\n",
    "plt.title('前20名销量的电脑厚度')\n",
    "\n",
    "\n",
    "ax2=fig.add_subplot(224)\n",
    "labels='1.5-2kg','1-1.5kg','2-2.5kg'\n",
    "sizes=8,6,5\n",
    "colors='lightgreen','gold','lightskyblue'\n",
    "explode=0,0,0\n",
    "plt.pie(sizes,explode=explode,labels=labels,colors=colors,autopct='%1.1f%%',shadow=True,startangle=50)\n",
    "plt.axis('equal')\n",
    "plt.title('前20名销量的电脑重量')\n",
    "\n",
    "ax3=fig.add_subplot(222)\n",
    "labels='14-14.9英寸','15.6英寸','13-13.9英寸','15-15.9英寸','16英寸以上'\n",
    "sizes=6,5,3,3,2\n",
    "explode=0,0,0,0,0\n",
    "plt.pie(sizes,explode=explode,labels=labels,autopct='%1.1f%%',shadow=True,startangle=50)\n",
    "plt.axis('equal')\n",
    "plt.title('前20名销量的电脑尺寸')\n",
    "\n",
    "ax4=fig.add_subplot(223)\n",
    "labels='>12小时','9小时以上','7-9小时','5-7小时','<5小时'\n",
    "sizes=7,3,3,3,2\n",
    "explode=0,0,0,0,0\n",
    "plt.pie(sizes,explode=explode,labels=labels,autopct='%1.1f%%',shadow=True,startangle=50)\n",
    "plt.axis('equal')\n",
    "plt.title('前20名销量的电脑待机时长')\n",
    "\n",
    "plt.savefig('2.jpg')\n",
    "fig.show()"
   ]
  },
  {
   "cell_type": "code",
   "execution_count": 122,
   "metadata": {},
   "outputs": [
    {
     "name": "stderr",
     "output_type": "stream",
     "text": [
      "C:\\Users\\29778\\Anaconda3\\lib\\site-packages\\ipykernel_launcher.py:30: UserWarning: Matplotlib is currently using module://ipykernel.pylab.backend_inline, which is a non-GUI backend, so cannot show the figure.\n"
     ]
    },
    {
     "data": {
      "image/png": "[encoded data removed]",
      "text/plain": [
       "<Figure size 432x288 with 3 Axes>"
      ]
     },
     "metadata": {},
     "output_type": "display_data"
    }
   ],
   "source": [
    "#电脑相关性能的饼图绘制\n",
    "fig=plt.figure()\n",
    "ax5=fig.add_subplot(222)\n",
    "labels='16G','8G'\n",
    "sizes=16,4\n",
    "explode=0,0\n",
    "plt.pie(sizes,explode=explode,labels=labels,autopct='%1.1f%%',shadow=True,startangle=50)\n",
    "plt.axis('equal')\n",
    "plt.title('前20名销量的内存大小')\n",
    "\n",
    "ax6=fig.add_subplot(221)\n",
    "labels='2GB','共享系统内存（集成）','6G','4G'\n",
    "sizes=9,4,3,2\n",
    "explode=0,0,0,0\n",
    "colors='lightgreen','gold','lightskyblue','lightcoral'\n",
    "plt.pie(sizes,explode=explode,labels=labels,colors=colors,autopct='%1.1f%%',shadow=True,startangle=50)\n",
    "plt.axis('equal')\n",
    "plt.title('前20名销量的电脑显存')\n",
    "\n",
    "ax7=fig.add_subplot(223)\n",
    "labels='入门级游戏独立显卡','集成显卡','GTX1650','RTX2060','GTX1660Ti'\n",
    "sizes=9,5,2,2,1\n",
    "explode=0,0,0,0,0\n",
    "plt.pie(sizes,explode=explode,labels=labels,autopct='%1.1f%%',shadow=True,startangle=50)\n",
    "plt.axis('equal')\n",
    "plt.title('前20名销量的电脑显卡')\n",
    "\n",
    "#除了没检测到，的硬盘基本是512g ssd 因此不做显示了\n",
    "\n",
    "plt.savefig('3.jpg')\n",
    "fig.show()"
   ]
  },
  {
   "cell_type": "code",
   "execution_count": 29,
   "metadata": {},
   "outputs": [],
   "source": [
    "#获得排名第n的所有信息\n",
    "def getCall1():\n",
    "    rank=entry2.get()\n",
    "    rank=int(rank)*2\n",
    "    with open('data.csv',encoding='utf-8') as f1:\n",
    "        reader=csv.reader(f1)\n",
    "        for i,rows in enumerate(reader):\n",
    "            if i == rank:\n",
    "                row = rows\n",
    "    message1='价格：'+row[0]+'\\n网址：'+row[1]+'\\n商品名称：'+row[2]+'\\n裸机重量：'+row[3]+'\\n厚度：'+row[4]+'\\n屏幕尺寸：'+row[5]+\\\n",
    "    '\\n待机时长：'+row[6]+'\\n商品产地：'+row[7]+'\\n屏幕色域：'+row[8]+'\\n系统：'+row[9]+'\\n显存：'+row[10]+'\\n硬盘：'+row[11]+'\\n显卡：'+row[12]\n",
    "    message2='\\n[菜单中可查找显存、显卡等相关概念]'\n",
    "    showinfo(title='信息',message=message1+message2)"
   ]
  },
  {
   "cell_type": "code",
   "execution_count": null,
   "metadata": {},
   "outputs": [],
   "source": [
    "     "
   ]
  },
  {
   "cell_type": "code",
   "execution_count": null,
   "metadata": {},
   "outputs": [],
   "source": [
    "  "
   ]
  },
  {
   "cell_type": "code",
   "execution_count": 32,
   "metadata": {},
   "outputs": [],
   "source": [
    "#定义窗口函数\n",
    "def No201():\n",
    "    a='4999.0,//item.jd.com/100005171461.html\\n5499.0,//item.jd.com/100011386554.html\\\n",
    "    \\n4199.0,//item.jd.com/100010816812.html\\\n",
    "    \\n7299.0,//item.jd.com/100006460635.html\\\n",
    "    \\n4499.0,//item.jd.com/100013023568.html\\\n",
    "    \\n5699.0,//item.jd.com/100012885246.html\\\n",
    "    \\n4299.0,//item.jd.com/100006546527.html\\\n",
    "    \\n4299.0,//item.jd.com/100010879626.html\\\n",
    "    \\n6099.0,//item.jd.com/100012885264.html\\\n",
    "    \\n5599.0,//item.jd.com/100011773090.html\\\n",
    "    \\n6299.0,//item.jd.com/100006487373.html\\\n",
    "    \\n6399.0,//item.jd.com/100012950510.html\\\n",
    "    \\n4299.0,//item.jd.com/100012583158.html\\\n",
    "    \\n9499.0,//item.jd.com/100013054330.html\\\n",
    "    \\n4599.0,//item.jd.com/100004563443.html\\\n",
    "    \\n5999.0,//item.jd.com/100011177202.html\\\n",
    "    \\n6399.0,//item.jd.com/100012950506.html\\\n",
    "    \\n5999.0,//item.jd.com/100013171828.html\\\n",
    "    \\n4499.0,//item.jd.com/100007161973.html\\\n",
    "    \\n7699.0,//item.jd.com/100006288375.html'\n",
    "    showinfo(title='排行榜前20电脑价格与网址',message=a)\n",
    "def No202():\n",
    "    showinfo(title='查看排行榜前20电脑均价、最大值、最小值',message='平均价格：5709.0\\n最高价格：9499.0\\n最低价格：4199.0')\n",
    "def explain1():\n",
    "    showinfo(title='查找说明',message='可供查找的数据有【某销量排名电脑所有信息】\\n【排名前20的价格网址】\\n【不同电脑性能在排名前20中的数量】\\n【前20名价格的最大、最小、以及均值】')\n",
    "def explain2():\n",
    "    showinfo(title='部分信息说明',message='显卡：包括了PCB板、显示核心（GPU）、显存、供电、散热系统，是计算机最基本的组成部分之一，用途是为计算机提供所需的图形信息进行计算以及渲染，提供给显示器信号。\\n共享系统内存：就是拿一部分内存当显存，集成显卡和独立显卡都可以\\\n",
    "    共享系统内存。\\n显存：显存容量的大小决定着显存临时存储数据的能力。')\n",
    "def about():\n",
    "    showinfo(title='关于',message='这是京东按销量排行笔记本电脑资料查询处')\n",
    "def sorry():\n",
    "    showinfo(title='提示',message='功能开发中●ˇ∀ˇ●敬请期待!')"
   ]
  },
  {
   "cell_type": "code",
   "execution_count": 33,
   "metadata": {},
   "outputs": [],
   "source": [
    "import tkinter as tk\n",
    "from tkinter import*\n",
    "from tkinter.messagebox import *\n",
    "from tkinter import ttk\n",
    "#提供用户查询的gui窗口\n",
    "window=tk.Tk()\n",
    "window.title('笔记本电脑数据查询用户界面')\n",
    "window.geometry('750x400')\n",
    "#1\n",
    "lb1=Label(window,text='您要查找的是？')\n",
    "lb1.grid(row=0,column=0,ipadx=10,ipady=10,padx=10,pady=10)\n",
    "#2\n",
    "lb21=Label(window,text='京东排名第')\n",
    "lb21.grid(row=1,column=0,ipadx=10,ipady=10,padx=10,pady=10)\n",
    "entry2=Entry(window,width=5)\n",
    "entry2.grid(row=1,column=1,ipadx=10,ipady=10,padx=10,pady=10)\n",
    "lb22=Label(window,text='的全部信息')\n",
    "lb22.grid(row=1,column=2,ipadx=10,ipady=10,padx=10,pady=10)\n",
    "btn2=Button(window,text='确定',width=10,command=getCall1)\n",
    "btn2.grid(row=1,column=3,ipadx=10,ipady=10,padx=10,pady=10)\n",
    "\n",
    "#3\n",
    "lbl31=Label(window,text='查看',width=10)\n",
    "lbl31.grid(row=2,column=0,ipadx=10,ipady=10,padx=10,pady=10)\n",
    "value=StringVar()\n",
    "cbox=ttk.Combobox(window,width=5,textvariable=value)\n",
    "cbox['values']=('品牌','尺寸','厚度','待机时长','重量','显存','内存','显卡')\n",
    "cbox.grid(row=2,column=1,ipadx=10,ipady=10,padx=10,pady=10)\n",
    "cbox.current(0)\n",
    "\n",
    "def show_msg(event):\n",
    "    event1=cbox.get()\n",
    "    if event1=='品牌':\n",
    "        message3='品牌  数量\\n联想   8\\n华为   7\\n华硕   2\\n惠普   2\\n戴尔   1'\n",
    "    if event1=='厚度':\n",
    "        message3='厚度           数量\\n15.1mm—18.0mm  14\\n20.0mm—25.0mm   3\\n       25.0mm以上   2\\n     15.0mm及以下   1'\n",
    "    if event1=='尺寸':\n",
    "        message3=' 屏幕尺寸  数量\\n  14-14.9英寸   6\\n     15.6英寸   5\\n  13-13.9英寸   3\\n  15-15.9英寸   3\\n    16英寸及以上   2'\n",
    "    if event1=='待机时长':\n",
    "        message3='待机时长  数量\\n  ＞12小时   7\\n  5-7小时   3\\n  7-9小时   3\\n  9小时以上   3\\n  小于5小时   2'\n",
    "    if event1=='内存':\n",
    "        message3='内存  数量\\n  16G  16\\n   8G   4'\n",
    "    if event1=='显存':\n",
    "        message3='显存  数量\\n         2GB   9\\n  共享系统内存（集成）   4\\n          6G   3\\n          4G   2'\n",
    "    if event1=='显卡':\n",
    "        message3='显卡  数量\\n  入门级游戏独立显卡   9\\n       集成显卡   5\\n    GTX1650   2\\n    RTX2060   2\\n  GTX1660Ti   1'\n",
    "    if event1=='重量':\n",
    "        message3='裸机重量  数量\\n  1.5-2kg   8\\n  1-1.5KG   6\\n  2-2.5kg   5'\n",
    "    showinfo(title='提示',message=message3)\n",
    "cbox.bind('<<ComboboxSelected>>',show_msg)\n",
    "\n",
    "lbl32=Label(window,text='在前二十名电脑中的不同规格数量',width=25)\n",
    "lbl32.grid(row=2,column=2,ipadx=10,ipady=10,padx=10,pady=10)\n",
    "\n",
    "lbl4=Label(window,text='查看排行榜前20电脑网址',width=20)\n",
    "lbl4.grid(row=3,column=0,ipadx=10,ipady=10,padx=10,pady=10)\n",
    "btn4=Button(window,text='确定',width=10,command=No201)\n",
    "btn4.grid(row=3,column=2,ipadx=10,ipady=10,padx=10,pady=10)\n",
    "\n",
    "lbl5=Label(window,text='查看排行榜前20电脑均价、最大值、最小值',width=30)\n",
    "lbl5.grid(row=4,column=0,ipadx=10,ipady=10,padx=10,pady=10)\n",
    "btn5=Button(window,text='确定',width=10,command=No202)\n",
    "btn5.grid(row=4,column=2,ipadx=10,ipady=10,padx=10,pady=10)\n",
    "\n",
    "\n",
    "#创建菜单\n",
    "menubar=Menu(window)  \n",
    "helpmenu = Menu(menubar)\n",
    "menubar.add_cascade(label=\"帮助\",menu=helpmenu)\n",
    "helpmenu.add_command(label=\"查询说明\",command=explain1)\n",
    "helpmenu.add_command(label=\"部分信息说明\",command=explain2)\n",
    "helpmenu.add_command(label=\"关于\",command=about)\n",
    "helpmenu.add_command(label='投诉信箱',command=sorry)\n",
    "helpmenu.add_command(label='退出',command=window.destroy)\n",
    "window.config(menu=menubar)#显示menubar\n",
    "\n",
    "window.mainloop()"
   ]
  },
  {
   "cell_type": "code",
   "execution_count": null,
   "metadata": {},
   "outputs": [],
   "source": []
  },
  {
   "cell_type": "code",
   "execution_count": null,
   "metadata": {},
   "outputs": [],
   "source": []
  },
  {
   "cell_type": "code",
   "execution_count": null,
   "metadata": {},
   "outputs": [],
   "source": []
  }
 ],
 "metadata": {
  "kernelspec": {
   "display_name": "Python 3",
   "language": "python",
   "name": "python3"
  },
  "language_info": {
   "codemirror_mode": {
    "name": "ipython",
    "version": 3
   },
   "file_extension": ".py",
   "mimetype": "text/x-python",
   "name": "python",
   "nbconvert_exporter": "python",
   "pygments_lexer": "ipython3",
   "version": "3.7.4"
  }
 },
 "nbformat": 4,
 "nbformat_minor": 2
}
